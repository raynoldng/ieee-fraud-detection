{
 "cells": [
  {
   "cell_type": "code",
   "execution_count": 1,
   "metadata": {},
   "outputs": [],
   "source": [
    "import numpy as np, pandas as pd, os, gc\n",
    "import matplotlib.pyplot as plt\n",
    "import seaborn as sns"
   ]
  },
  {
   "cell_type": "code",
   "execution_count": null,
   "metadata": {},
   "outputs": [],
   "source": [
    "test_ray_gbm = pd.read_csv('../stacking_input/test_ensemble_ray_lightgbm.csv')\n",
    "test_ray_rgf = pd.read_csv('../stacking_input/test_ensemble_ray_rgf.csv')"
   ]
  },
  {
   "cell_type": "code",
   "execution_count": 22,
   "metadata": {},
   "outputs": [],
   "source": [
    "assert list(test_ray_rgf['TransactionID']) == list(test_ray_gbm['TransactionID'])"
   ]
  },
  {
   "cell_type": "code",
   "execution_count": 18,
   "metadata": {},
   "outputs": [],
   "source": [
    "train_ray_gbm = pd.read_csv('../stacking_input/train_ensemble_ray_lightgbm.csv')\n",
    "train_ray_rgf = pd.read_csv('../stacking_input/train_ensemble_ray_rgf.csv')\n",
    "train_wh_gbm = pd.read_csv('../stacking_input/train_ensemble_WH.csv')"
   ]
  },
  {
   "cell_type": "code",
   "execution_count": 23,
   "metadata": {},
   "outputs": [],
   "source": [
    "assert list(train_ray_gbm['TransactionID']) == list(train_wh_gbm['TransactionID']) == list(train_ray_rgf['TransactionID'])"
   ]
  },
  {
   "cell_type": "markdown",
   "metadata": {},
   "source": [
    "All looking good to me"
   ]
  },
  {
   "cell_type": "code",
   "execution_count": null,
   "metadata": {},
   "outputs": [],
   "source": []
  }
 ],
 "metadata": {
  "kernelspec": {
   "display_name": "Python 3",
   "language": "python",
   "name": "python3"
  },
  "language_info": {
   "codemirror_mode": {
    "name": "ipython",
    "version": 3
   },
   "file_extension": ".py",
   "mimetype": "text/x-python",
   "name": "python",
   "nbconvert_exporter": "python",
   "pygments_lexer": "ipython3",
   "version": "3.7.3"
  }
 },
 "nbformat": 4,
 "nbformat_minor": 4
}
