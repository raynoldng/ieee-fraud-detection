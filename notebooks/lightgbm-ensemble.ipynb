{
 "cells": [
  {
   "cell_type": "code",
   "execution_count": 16,
   "metadata": {},
   "outputs": [],
   "source": [
    "import numpy as np, pandas as pd, os, gc\n",
    "from sklearn.model_selection import GroupKFold\n",
    "from sklearn.metrics import roc_auc_score\n",
    "import matplotlib.pyplot as plt\n",
    "import seaborn as sns"
   ]
  },
  {
   "cell_type": "code",
   "execution_count": 42,
   "metadata": {},
   "outputs": [],
   "source": [
    "TRAIN_LEN = 590540\n",
    "TEST_LEN = 506691"
   ]
  },
  {
   "cell_type": "code",
   "execution_count": 34,
   "metadata": {},
   "outputs": [],
   "source": [
    "test = pd.read_pickle(\"../processed_input/X_test_encoding_deviceinfo_email.pkl\")\n",
    "train = pd.read_pickle(\"../processed_input/X_train_encoding_deviceinfo_email.pkl\")\n",
    "y = pd.read_pickle(\"../input/y_test.pkl\")\n",
    "y.index = train.index\n",
    "\n",
    "assert train.shape[0] == TRAIN_LEN\n",
    "assert test.shape[0] == TEST_LEN"
   ]
  },
  {
   "cell_type": "code",
   "execution_count": 35,
   "metadata": {},
   "outputs": [],
   "source": [
    "params = {\n",
    "    \"bagging_fraction\": 0.51138755073088926,\n",
    "    \"feature_fraction\": 0.57393165508963395,\n",
    "    \"learning_rate\": 0.065644111129998017,\n",
    "    \"max_depth\": 36.060235965987744,\n",
    "    \"min_child_weight\": 0.012766164534423117,\n",
    "    \"min_data_in_leaf\": 66.262898246319878,\n",
    "    \"num_leaves\": 1142.2406570962667,\n",
    "    \"reg_alpha\": 0.87937921984473566,\n",
    "    \"reg_lambda\": 0.78503840886987675,\n",
    "}\n",
    "\n",
    "\n",
    "def run_model(X_train, y_train, X_val, y_val, params):\n",
    "    params[\"max_depth\"] = int(params[\"max_depth\"])\n",
    "    params[\"min_data_in_leaf\"] = int(params[\"min_data_in_leaf\"])\n",
    "    params[\"num_leaves\"] = int(params[\"num_leaves\"])\n",
    "    params[\"metric\"] = \"auc\"\n",
    "\n",
    "    d_train = lgb.Dataset(X_train, label=y_train)\n",
    "    d_val = lgb.Dataset(X_val, label=y_val, reference=d_train)\n",
    "\n",
    "    model = lgb.train(\n",
    "        params,\n",
    "        d_train,\n",
    "        verbose_eval=-1,\n",
    "        num_boost_round=1000,\n",
    "        early_stopping_rounds=20,\n",
    "        valid_sets=d_val,\n",
    "    )\n",
    "    pred_proba = model.predict(X_val)\n",
    "    score = roc_auc_score(y_val, pred_proba)\n",
    "\n",
    "    return pred_proba, score"
   ]
  },
  {
   "cell_type": "code",
   "execution_count": 36,
   "metadata": {},
   "outputs": [
    {
     "name": "stdout",
     "output_type": "stream",
     "text": [
      "53690 53685\n",
      "Training until validation scores don't improve for 20 rounds\n",
      "Early stopping, best iteration is:\n",
      "[87]\tvalid_0's auc: 0.89669\n",
      "0.8966896617594806\n",
      "107375 53685\n",
      "Training until validation scores don't improve for 20 rounds\n",
      "Early stopping, best iteration is:\n",
      "[75]\tvalid_0's auc: 0.898089\n",
      "0.8980888376436422\n",
      "161060 53685\n",
      "Training until validation scores don't improve for 20 rounds\n",
      "Early stopping, best iteration is:\n",
      "[63]\tvalid_0's auc: 0.909893\n",
      "0.9098934405395407\n",
      "214745 53685\n",
      "Training until validation scores don't improve for 20 rounds\n",
      "Early stopping, best iteration is:\n",
      "[58]\tvalid_0's auc: 0.918944\n",
      "0.9189443434848723\n",
      "268430 53685\n",
      "Training until validation scores don't improve for 20 rounds\n",
      "Early stopping, best iteration is:\n",
      "[50]\tvalid_0's auc: 0.908756\n",
      "0.9087557599271008\n",
      "322115 53685\n",
      "Training until validation scores don't improve for 20 rounds\n",
      "Early stopping, best iteration is:\n",
      "[131]\tvalid_0's auc: 0.911803\n",
      "0.9118033196948719\n",
      "375800 53685\n",
      "Training until validation scores don't improve for 20 rounds\n",
      "Early stopping, best iteration is:\n",
      "[57]\tvalid_0's auc: 0.927915\n",
      "0.927914761645894\n",
      "429485 53685\n",
      "Training until validation scores don't improve for 20 rounds\n",
      "Early stopping, best iteration is:\n",
      "[57]\tvalid_0's auc: 0.924425\n",
      "0.9244252793984777\n",
      "483170 53685\n",
      "Training until validation scores don't improve for 20 rounds\n",
      "Early stopping, best iteration is:\n",
      "[139]\tvalid_0's auc: 0.923282\n",
      "0.9232818675048587\n",
      "536855 53685\n",
      "Training until validation scores don't improve for 20 rounds\n",
      "Early stopping, best iteration is:\n",
      "[28]\tvalid_0's auc: 0.917493\n",
      "0.9174930268309992\n"
     ]
    }
   ],
   "source": [
    "tscv = TimeSeriesSplit(n_splits=10)\n",
    "model = None\n",
    "preds = []\n",
    "scores = []\n",
    "\n",
    "for train_index, val_index in [i for i in tscv.split(train)]:\n",
    "    print(len(train_index), len(val_index))\n",
    "    X_train, X_val = train.iloc[train_index, :].copy(), train.iloc[val_index, :].copy()\n",
    "    y_train, y_val = y.iloc[train_index], y.iloc[val_index]\n",
    "\n",
    "    pred, score = run_model(X_train, y_train, X_val, y_val, params)\n",
    "\n",
    "    preds.append(pred)\n",
    "    scores.append(score)"
   ]
  },
  {
   "cell_type": "code",
   "execution_count": 40,
   "metadata": {},
   "outputs": [],
   "source": [
    "back_pred = []\n",
    "for pred in preds:\n",
    "    back_pred.extend(pred)"
   ]
  },
  {
   "cell_type": "code",
   "execution_count": 67,
   "metadata": {},
   "outputs": [],
   "source": [
    "train_ensemble_df = pd.concat(\n",
    "    [pd.Series(train.index[-536850:]), pd.Series(back_pred)],\n",
    "    axis=1\n",
    ")\n",
    "train_ensemble_df.columns = [\"TransactionID\", \"isFraud\"]"
   ]
  },
  {
   "cell_type": "code",
   "execution_count": 68,
   "metadata": {},
   "outputs": [],
   "source": [
    "assert train_ensemble_df.shape == (536850, 2)\n",
    "assert train_ensemble_df.loc[0, 'TransactionID'] == 3040690.0"
   ]
  },
  {
   "cell_type": "code",
   "execution_count": 70,
   "metadata": {},
   "outputs": [],
   "source": [
    "train_ensemble_df.to_csv(path_or_buf=\"train_ensemble_ray_lightgbm.csv\",index=False)"
   ]
  },
  {
   "cell_type": "code",
   "execution_count": null,
   "metadata": {},
   "outputs": [],
   "source": []
  }
 ],
 "metadata": {
  "kernelspec": {
   "display_name": "Python 3",
   "language": "python",
   "name": "python3"
  },
  "language_info": {
   "codemirror_mode": {
    "name": "ipython",
    "version": 3
   },
   "file_extension": ".py",
   "mimetype": "text/x-python",
   "name": "python",
   "nbconvert_exporter": "python",
   "pygments_lexer": "ipython3",
   "version": "3.7.3"
  }
 },
 "nbformat": 4,
 "nbformat_minor": 4
}
