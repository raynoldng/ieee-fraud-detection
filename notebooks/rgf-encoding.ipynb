{
 "cells": [
  {
   "cell_type": "code",
   "execution_count": 1,
   "metadata": {},
   "outputs": [],
   "source": [
    "import numpy as np, pandas as pd, os, gc\n",
    "from sklearn.model_selection import GroupKFold\n",
    "from sklearn.metrics import roc_auc_score\n",
    "import matplotlib.pyplot as plt\n",
    "import seaborn as sns\n",
    "\n",
    "from scipy.special import softmax\n",
    "\n",
    "from rgf.sklearn import RGFClassifier, FastRGFClassifier\n",
    "from bayes_opt import BayesianOptimization\n",
    "from sklearn.metrics import roc_auc_score\n",
    "import warnings\n",
    "\n",
    "import sys\n",
    "sys.path.append('/home/raynoldng/Desktop/ieee-fraud-detection')\n",
    "sys.path.append('/home/raynoldng/Desktop/ieee-fraud-detection/fraud')"
   ]
  },
  {
   "cell_type": "code",
   "execution_count": 2,
   "metadata": {},
   "outputs": [],
   "source": [
    "train = pd.read_pickle('../processed_input/X_train_encoding_deviceinfo_email.pkl')\n",
    "test = pd.read_pickle('../processed_input/X_test_encoding_deviceinfo_email.pkl')\n",
    "y_train = pd.read_pickle('../input/y_test.pkl')\n",
    "\n",
    "y_train.index = train.index"
   ]
  },
  {
   "cell_type": "code",
   "execution_count": 3,
   "metadata": {},
   "outputs": [],
   "source": [
    "# need to convert Category types to ints\n",
    "for f in train.columns:\n",
    "    if str(train[f].dtype) == 'category':\n",
    "        train[f] = train[f].cat.codes\n",
    "        test[f] = test[f].cat.codes\n",
    "\n",
    "train = train.fillna(-999)\n",
    "test = test.fillna(-999)"
   ]
  },
  {
   "cell_type": "code",
   "execution_count": 7,
   "metadata": {},
   "outputs": [
    {
     "data": {
      "text/plain": [
       "FastRGFClassifier(calc_prob='sigmoid', data_l2=2.0, l1=186.4, l2=5582.0,\n",
       "         learning_rate=0.628, loss='LS', max_bin=None, max_depth=7,\n",
       "         max_leaf=1292, min_child_weight=5.0, min_samples_leaf=39,\n",
       "         n_estimators=500, n_jobs=-1, opt_algorithm='rgf',\n",
       "         sparse_max_features=80000, sparse_min_occurences=5,\n",
       "         tree_gain_ratio=1.0, verbose=0)"
      ]
     },
     "execution_count": 7,
     "metadata": {},
     "output_type": "execute_result"
    }
   ],
   "source": [
    "best_params = {\n",
    "    'l1': 186.4,\n",
    "    'l2': 5582.0,\n",
    "    'learning_rate': 0.628,\n",
    "    'max_depth': 7,\n",
    "    'max_leaf': 1292,\n",
    "    'min_samples_leaf': 39\n",
    "}\n",
    "model = FastRGFClassifier(\n",
    "            max_leaf=best_params['max_leaf'],\n",
    "            max_depth=best_params['max_depth'],\n",
    "            l1=best_params['l1'],\n",
    "            l2=best_params['l2'],\n",
    "            min_samples_leaf=best_params['min_samples_leaf'],\n",
    "            learning_rate=best_params['learning_rate'],\n",
    "        )\n",
    "model.fit(train, y_train)"
   ]
  },
  {
   "cell_type": "code",
   "execution_count": 35,
   "metadata": {},
   "outputs": [],
   "source": [
    "def create_submission(model, X_test, name=\"submit.csv\"):\n",
    "    predict = model.predict_proba(X_test)[:, 1]\n",
    "    predict[predict > 1] = 1\n",
    "    predict[predict < 0] = 0\n",
    "    sample_submission = pd.read_csv('../input/sample_submission.csv')\n",
    "    submission = pd.DataFrame({\n",
    "        'TransactionID': sample_submission['TransactionID'],\n",
    "        'isFraud': predict\n",
    "    })\n",
    "    submission.to_csv(name, index=False, float_format='%.3f')"
   ]
  },
  {
   "cell_type": "code",
   "execution_count": 36,
   "metadata": {},
   "outputs": [],
   "source": [
    "create_submission(model, test, name='rgf_submit.csv')"
   ]
  },
  {
   "cell_type": "code",
   "execution_count": 39,
   "metadata": {},
   "outputs": [],
   "source": [
    "# save training predictions\n",
    "train_pred = model.predict_proba(train)"
   ]
  },
  {
   "cell_type": "code",
   "execution_count": 41,
   "metadata": {},
   "outputs": [],
   "source": [
    "train_submission = pd.DataFrame({\n",
    "        'TransactionID': train.index,\n",
    "        'isFraud': train_pred[:, 1]\n",
    "    })\n",
    "train_submission.to_csv('rgf-train.csv', index=False, float_format='%.3f')"
   ]
  },
  {
   "cell_type": "code",
   "execution_count": null,
   "metadata": {},
   "outputs": [],
   "source": []
  }
 ],
 "metadata": {
  "kernelspec": {
   "display_name": "Python 3",
   "language": "python",
   "name": "python3"
  },
  "language_info": {
   "codemirror_mode": {
    "name": "ipython",
    "version": 3
   },
   "file_extension": ".py",
   "mimetype": "text/x-python",
   "name": "python",
   "nbconvert_exporter": "python",
   "pygments_lexer": "ipython3",
   "version": "3.6.4"
  }
 },
 "nbformat": 4,
 "nbformat_minor": 2
}
