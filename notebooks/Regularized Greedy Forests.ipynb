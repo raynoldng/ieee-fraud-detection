{
 "cells": [
  {
   "cell_type": "code",
   "execution_count": 2,
   "metadata": {},
   "outputs": [],
   "source": [
    "import pandas as pd\n",
    "import numpy as np\n",
    "import seaborn as sns\n",
    "import matplotlib.pyplot as plt\n",
    "sns.set_style('darkgrid')\n",
    "from rgf.sklearn import RGFClassifier\n",
    "\n",
    "import sys, os\n",
    "sys.path.append('/Users/raynoldng/Projects/ieee-fraud-detection')\n",
    "from fraud.utils import load_data\n",
    "import fraud.feature_engineering as fe"
   ]
  },
  {
   "cell_type": "code",
   "execution_count": 3,
   "metadata": {},
   "outputs": [
    {
     "name": "stdout",
     "output_type": "stream",
     "text": [
      "Mem. usage decreased to  8.90 Mb (70.5% reduction)\n",
      "Mem. usage decreased to  9.27 Mb (69.2% reduction)\n",
      "Mem. usage decreased to 25.86 Mb (42.7% reduction)\n",
      "Mem. usage decreased to 25.44 Mb (42.7% reduction)\n",
      "(10000, 434)\n",
      "(10000, 433)\n"
     ]
    }
   ],
   "source": [
    "train, test = load_data(sample=True)"
   ]
  },
  {
   "cell_type": "code",
   "execution_count": 4,
   "metadata": {},
   "outputs": [],
   "source": [
    "train, test = fe.drop_mostly_null_and_skewed_cols(train, test)\n",
    "train, test = fe.map_emails(train), fe.map_emails(test)\n",
    "train, test = fe.map_transaction_amount(train), fe.map_transaction_amount(test)    \n",
    "train, test = fe.encode_categorical_features(train, test)"
   ]
  },
  {
   "cell_type": "code",
   "execution_count": 5,
   "metadata": {},
   "outputs": [],
   "source": [
    "train.to_pickle('../input/baseline_txn_amt_train.pkl')\n",
    "test.to_pickle('../input/baseline_txn_amt_test.pkl')\n",
    "\n",
    "# pd.read_pickle"
   ]
  },
  {
   "cell_type": "code",
   "execution_count": 4,
   "metadata": {},
   "outputs": [],
   "source": [
    "y_test = train[\"isFraud\"]"
   ]
  },
  {
   "cell_type": "code",
   "execution_count": null,
   "metadata": {},
   "outputs": [],
   "source": [
    "d_train.save_binary('baseline_txn_amt')"
   ]
  },
  {
   "cell_type": "code",
   "execution_count": 1,
   "metadata": {},
   "outputs": [],
   "source": [
    "space = {\n",
    "    \"num_leaves\": (70, 600),\n",
    "    \"min_child_weight\": (0.001, 0.07),\n",
    "    \"feature_fraction\": (0.1, 0.9),\n",
    "    \"bagging_fraction\": (0.1, 0.9),\n",
    "    \"max_depth\": (-1, 50),\n",
    "    \"learning_rate\": (0.2, 0.9),\n",
    "    \"reg_alpha\": (0.3, 0.9),\n",
    "    \"reg_lambda\": (0.3, 0.9),\n",
    "    \"min_data_in_leaf\": (50, 300),\n",
    "}"
   ]
  },
  {
   "cell_type": "code",
   "execution_count": 3,
   "metadata": {},
   "outputs": [],
   "source": [
    "# https://www.analyticsvidhya.com/blog/2018/02/introductory-guide-regularized-greedy-forests-rgf-python/\n",
    "params = {\n",
    "    \"max_leaf\": [1000, 1200, 1300, 1400, 1500, 1600, 1700, 1800, 1900, 2000],\n",
    "    \"l2\": [0.1, 0.2, 0.3],\n",
    "    \"min_samples_leaf\": [5, 10],\n",
    "}\n",
    "\n",
    "space = {\n",
    "    \"max_leaf\": (1000, 2000),\n",
    "    \"l2\": (0.1, 0.3),\n",
    "    \"min_samples_leaf\": (5, 10)\n",
    "}"
   ]
  },
  {
   "cell_type": "code",
   "execution_count": null,
   "metadata": {},
   "outputs": [],
   "source": []
  }
 ],
 "metadata": {
  "kernelspec": {
   "display_name": "Python 3",
   "language": "python",
   "name": "python3"
  },
  "language_info": {
   "codemirror_mode": {
    "name": "ipython",
    "version": 3
   },
   "file_extension": ".py",
   "mimetype": "text/x-python",
   "name": "python",
   "nbconvert_exporter": "python",
   "pygments_lexer": "ipython3",
   "version": "3.7.3"
  }
 },
 "nbformat": 4,
 "nbformat_minor": 2
}
